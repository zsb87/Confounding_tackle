{
 "cells": [
  {
   "cell_type": "code",
   "execution_count": 1,
   "metadata": {
    "collapsed": false
   },
   "outputs": [
    {
     "name": "stderr",
     "output_type": "stream",
     "text": [
      "/Users/shibozhang/anaconda/lib/python3.6/site-packages/sklearn/cross_validation.py:41: DeprecationWarning: This module was deprecated in version 0.18 in favor of the model_selection module into which all the refactored classes and functions are moved. Also note that the interface of the new CV iterators are different from that of this module. This module will be removed in 0.20.\n",
      "  \"This module will be removed in 0.20.\", DeprecationWarning)\n"
     ]
    }
   ],
   "source": [
    "# import beyourself\n",
    "import pandas as pd\n",
    "import numpy as np\n",
    "import os\n",
    "from sklearn.manifold import TSNE\n",
    "import time\n",
    "from matplotlib import pyplot as plt\n",
    "from sklearn.cluster import KMeans\n",
    "from sklearn.cluster import MiniBatchKMeans\n",
    "from sklearn.metrics import confusion_matrix, mean_squared_error\n",
    "from utils import balanced_subsample\n",
    "from imblearn.over_sampling import ADASYN, SMOTE, RandomOverSampler\n"
   ]
  },
  {
   "cell_type": "markdown",
   "metadata": {},
   "source": [
    "## train: DBSACN cluster，\n",
    "## test: kNN classification"
   ]
  },
  {
   "cell_type": "code",
   "execution_count": 2,
   "metadata": {
    "collapsed": true
   },
   "outputs": [],
   "source": [
    "def standard_normalizer(x):\n",
    "    x = x.T\n",
    "    # compute the mean and standard deviation of the input\n",
    "    x_means = np.mean(x,axis = 1)[:,np.newaxis]\n",
    "    x_stds = np.std(x,axis = 1)[:,np.newaxis]   \n",
    "\n",
    "    # create standard normalizer function based on input data statistics\n",
    "    normalizer = lambda data: ((data.T - x_means)/x_stds).T\n",
    "    \n",
    "    # return normalizer and inverse_normalizer\n",
    "    return normalizer"
   ]
  },
  {
   "cell_type": "code",
   "execution_count": 3,
   "metadata": {
    "collapsed": true
   },
   "outputs": [],
   "source": [
    "def calc_multi_cm(y_gt, y_pred):    \n",
    "    # ct = pd.crosstab(y_gt, y_pred, rownames=['True'], colnames=['Predicted'], margins=True).apply(lambda r: r/r.sum(), axis=1)\n",
    "    ct = pd.crosstab(y_gt, y_pred, rownames=['True'], colnames=['Predicted'], margins=True)\n",
    "    # print(ct)\n",
    "    # ct.to_csv(cm_file)\n",
    "\n",
    "    # Compute confusion matrix\n",
    "    multi_cm = confusion_matrix(y_gt, y_pred)\n",
    "    \n",
    "    accuracy = sum(multi_cm[i,i] for i in range(len(set(y_gt))))/sum(sum(multi_cm[i] for i in range(len(set(y_gt)))))\n",
    "    recall_all = sum(multi_cm[i,i]/sum(multi_cm[i,j] for j in range(len(set(y_gt)))) for i in range(len(set(y_gt))))/(len(set(y_gt)))\n",
    "    precision_all = sum(multi_cm[i,i]/sum(multi_cm[j,i] for j in range(len(set(y_gt)))) for i in range(len(set(y_gt))))/(len(set(y_gt)))\n",
    "    fscore_all = sum(2*(multi_cm[i,i]/sum(multi_cm[i,j] for j in range(len(set(y_gt)))))*(multi_cm[i,i]/sum(multi_cm[j,i] for j in range(len(set(y_gt)))))/(multi_cm[i,i]/sum(multi_cm[i,j] for j in range(len(set(y_gt))))+multi_cm[i,i]/sum(multi_cm[j,i] for j in range(len(set(y_gt))))) for i in range(len(set(y_gt))))/len(set(y_gt))\n",
    "    \n",
    "    result={}\n",
    "\n",
    "    for i in np.unique(y_gt):\n",
    "\n",
    "        i_gt = (y_gt==i).astype(int)\n",
    "        i_pred = (y_pred==i).astype(int)\n",
    "\n",
    "        cm = confusion_matrix(i_gt, i_pred)\n",
    "\n",
    "        i_result = {}\n",
    "\n",
    "        TP = cm[1,1]\n",
    "        FP = cm[0,1]\n",
    "        TN = cm[0,0]\n",
    "        FN = cm[1,0]\n",
    "        # Precision for Positive = TP/(TP + FP)\n",
    "        prec_pos = TP/(TP + FP)\n",
    "        # F1 score for positive = 2 * precision * recall / (precision + recall)….or it can be F1= 2*TP/(2*TP + FP+ FN)\n",
    "        f1_pos = 2*TP/(TP*2 + FP+ FN)\n",
    "        # TPR = TP/(TP+FN)\n",
    "        TPR = cm[1,1]/sum(cm[1,j] for j in range(len(set(i_gt))))\n",
    "\n",
    "        i_result = {'recall': TPR, 'precision': prec_pos, 'f1': f1_pos}\n",
    "\n",
    "        result[str(int(i))] = i_result\n",
    "\n",
    "    ave_result = {'accuracy':accuracy, 'recall_all':recall_all, 'precision_all':precision_all, 'fscore_all':fscore_all}\n",
    "    result['average'] = ave_result\n",
    "\n",
    "    return result, multi_cm\n"
   ]
  },
  {
   "cell_type": "code",
   "execution_count": 5,
   "metadata": {
    "collapsed": false,
    "scrolled": false
   },
   "outputs": [
    {
     "name": "stdout",
     "output_type": "stream",
     "text": [
      "------iFold:0---------------------\n"
     ]
    },
    {
     "name": "stderr",
     "output_type": "stream",
     "text": [
      "/Users/shibozhang/anaconda/lib/python3.6/site-packages/pandas/core/indexing.py:362: SettingWithCopyWarning: \n",
      "A value is trying to be set on a copy of a slice from a DataFrame.\n",
      "Try using .loc[row_indexer,col_indexer] = value instead\n",
      "\n",
      "See the caveats in the documentation: http://pandas.pydata.org/pandas-docs/stable/indexing.html#indexing-view-versus-copy\n",
      "  self.obj[key] = _infer_fill_value(value)\n",
      "/Users/shibozhang/anaconda/lib/python3.6/site-packages/pandas/core/indexing.py:543: SettingWithCopyWarning: \n",
      "A value is trying to be set on a copy of a slice from a DataFrame.\n",
      "Try using .loc[row_indexer,col_indexer] = value instead\n",
      "\n",
      "See the caveats in the documentation: http://pandas.pydata.org/pandas-docs/stable/indexing.html#indexing-view-versus-copy\n",
      "  self.obj[item] = s\n"
     ]
    },
    {
     "name": "stdout",
     "output_type": "stream",
     "text": [
      "---------------------svm(rbf)----------------\n",
      "0.11764705882352941\n",
      "[[152   5]\n",
      " [ 40   3]]\n",
      "---------------------rf----------------\n",
      "0.4166666666666667\n",
      "[[143  14]\n",
      " [ 28  15]]\n",
      "---------------------lr----------------\n",
      "0.4631578947368421\n",
      "[[127  30]\n",
      " [ 21  22]]\n",
      "------iFold:1---------------------\n"
     ]
    },
    {
     "name": "stderr",
     "output_type": "stream",
     "text": [
      "/Users/shibozhang/anaconda/lib/python3.6/site-packages/pandas/core/indexing.py:362: SettingWithCopyWarning: \n",
      "A value is trying to be set on a copy of a slice from a DataFrame.\n",
      "Try using .loc[row_indexer,col_indexer] = value instead\n",
      "\n",
      "See the caveats in the documentation: http://pandas.pydata.org/pandas-docs/stable/indexing.html#indexing-view-versus-copy\n",
      "  self.obj[key] = _infer_fill_value(value)\n",
      "/Users/shibozhang/anaconda/lib/python3.6/site-packages/pandas/core/indexing.py:543: SettingWithCopyWarning: \n",
      "A value is trying to be set on a copy of a slice from a DataFrame.\n",
      "Try using .loc[row_indexer,col_indexer] = value instead\n",
      "\n",
      "See the caveats in the documentation: http://pandas.pydata.org/pandas-docs/stable/indexing.html#indexing-view-versus-copy\n",
      "  self.obj[item] = s\n"
     ]
    },
    {
     "name": "stdout",
     "output_type": "stream",
     "text": [
      "---------------------svm(rbf)----------------\n",
      "0.3466666666666667\n",
      "[[ 14 143]\n",
      " [  4  39]]\n",
      "---------------------rf----------------\n",
      "0.673469387755102\n",
      "[[135  22]\n",
      " [ 10  33]]\n",
      "---------------------lr----------------\n",
      "0.5648854961832062\n",
      "[[106  51]\n",
      " [  6  37]]\n",
      "------iFold:2---------------------\n"
     ]
    },
    {
     "name": "stderr",
     "output_type": "stream",
     "text": [
      "/Users/shibozhang/anaconda/lib/python3.6/site-packages/pandas/core/indexing.py:362: SettingWithCopyWarning: \n",
      "A value is trying to be set on a copy of a slice from a DataFrame.\n",
      "Try using .loc[row_indexer,col_indexer] = value instead\n",
      "\n",
      "See the caveats in the documentation: http://pandas.pydata.org/pandas-docs/stable/indexing.html#indexing-view-versus-copy\n",
      "  self.obj[key] = _infer_fill_value(value)\n",
      "/Users/shibozhang/anaconda/lib/python3.6/site-packages/pandas/core/indexing.py:543: SettingWithCopyWarning: \n",
      "A value is trying to be set on a copy of a slice from a DataFrame.\n",
      "Try using .loc[row_indexer,col_indexer] = value instead\n",
      "\n",
      "See the caveats in the documentation: http://pandas.pydata.org/pandas-docs/stable/indexing.html#indexing-view-versus-copy\n",
      "  self.obj[item] = s\n"
     ]
    },
    {
     "name": "stdout",
     "output_type": "stream",
     "text": [
      "---------------------svm(rbf)----------------\n",
      "0.3377777777777778\n",
      "[[ 13 144]\n",
      " [  5  38]]\n",
      "---------------------rf----------------\n",
      "0.651685393258427\n",
      "[[140  17]\n",
      " [ 14  29]]\n",
      "---------------------lr----------------\n",
      "0.5571428571428572\n",
      "[[99 58]\n",
      " [ 4 39]]\n",
      "------iFold:3---------------------\n"
     ]
    },
    {
     "name": "stderr",
     "output_type": "stream",
     "text": [
      "/Users/shibozhang/anaconda/lib/python3.6/site-packages/pandas/core/indexing.py:362: SettingWithCopyWarning: \n",
      "A value is trying to be set on a copy of a slice from a DataFrame.\n",
      "Try using .loc[row_indexer,col_indexer] = value instead\n",
      "\n",
      "See the caveats in the documentation: http://pandas.pydata.org/pandas-docs/stable/indexing.html#indexing-view-versus-copy\n",
      "  self.obj[key] = _infer_fill_value(value)\n",
      "/Users/shibozhang/anaconda/lib/python3.6/site-packages/pandas/core/indexing.py:543: SettingWithCopyWarning: \n",
      "A value is trying to be set on a copy of a slice from a DataFrame.\n",
      "Try using .loc[row_indexer,col_indexer] = value instead\n",
      "\n",
      "See the caveats in the documentation: http://pandas.pydata.org/pandas-docs/stable/indexing.html#indexing-view-versus-copy\n",
      "  self.obj[item] = s\n"
     ]
    },
    {
     "name": "stdout",
     "output_type": "stream",
     "text": [
      "---------------------svm(rbf)----------------\n",
      "0.4044943820224719\n",
      "[[ 57 100]\n",
      " [  6  36]]\n",
      "---------------------rf----------------\n",
      "0.5686274509803921\n",
      "[[126  31]\n",
      " [ 13  29]]\n",
      "---------------------lr----------------\n",
      "0.5426356589147286\n",
      "[[105  52]\n",
      " [  7  35]]\n",
      "------iFold:4---------------------\n"
     ]
    },
    {
     "name": "stderr",
     "output_type": "stream",
     "text": [
      "/Users/shibozhang/anaconda/lib/python3.6/site-packages/pandas/core/indexing.py:362: SettingWithCopyWarning: \n",
      "A value is trying to be set on a copy of a slice from a DataFrame.\n",
      "Try using .loc[row_indexer,col_indexer] = value instead\n",
      "\n",
      "See the caveats in the documentation: http://pandas.pydata.org/pandas-docs/stable/indexing.html#indexing-view-versus-copy\n",
      "  self.obj[key] = _infer_fill_value(value)\n",
      "/Users/shibozhang/anaconda/lib/python3.6/site-packages/pandas/core/indexing.py:543: SettingWithCopyWarning: \n",
      "A value is trying to be set on a copy of a slice from a DataFrame.\n",
      "Try using .loc[row_indexer,col_indexer] = value instead\n",
      "\n",
      "See the caveats in the documentation: http://pandas.pydata.org/pandas-docs/stable/indexing.html#indexing-view-versus-copy\n",
      "  self.obj[item] = s\n"
     ]
    },
    {
     "name": "stdout",
     "output_type": "stream",
     "text": [
      "---------------------svm(rbf)----------------\n",
      "0.37362637362637363\n",
      "[[ 51 106]\n",
      " [  8  34]]\n",
      "---------------------rf----------------\n",
      "0.5168539325842697\n",
      "[[133  24]\n",
      " [ 19  23]]\n",
      "---------------------lr----------------\n",
      "0.5546218487394958\n",
      "[[113  44]\n",
      " [  9  33]]\n",
      "------iFold:5---------------------\n"
     ]
    },
    {
     "name": "stderr",
     "output_type": "stream",
     "text": [
      "/Users/shibozhang/anaconda/lib/python3.6/site-packages/pandas/core/indexing.py:362: SettingWithCopyWarning: \n",
      "A value is trying to be set on a copy of a slice from a DataFrame.\n",
      "Try using .loc[row_indexer,col_indexer] = value instead\n",
      "\n",
      "See the caveats in the documentation: http://pandas.pydata.org/pandas-docs/stable/indexing.html#indexing-view-versus-copy\n",
      "  self.obj[key] = _infer_fill_value(value)\n",
      "/Users/shibozhang/anaconda/lib/python3.6/site-packages/pandas/core/indexing.py:543: SettingWithCopyWarning: \n",
      "A value is trying to be set on a copy of a slice from a DataFrame.\n",
      "Try using .loc[row_indexer,col_indexer] = value instead\n",
      "\n",
      "See the caveats in the documentation: http://pandas.pydata.org/pandas-docs/stable/indexing.html#indexing-view-versus-copy\n",
      "  self.obj[item] = s\n",
      "/Users/shibozhang/anaconda/lib/python3.6/site-packages/ipykernel/__main__.py:13: RuntimeWarning: invalid value encountered in double_scalars\n"
     ]
    },
    {
     "name": "stdout",
     "output_type": "stream",
     "text": [
      "---------------------svm(rbf)----------------\n",
      "0.0\n",
      "[[156   1]\n",
      " [ 42   0]]\n",
      "---------------------rf----------------\n",
      "0.2641509433962264\n",
      "[[153   4]\n",
      " [ 35   7]]\n",
      "---------------------lr----------------\n",
      "0.3333333333333333\n",
      "[[139  18]\n",
      " [ 30  12]]\n",
      "------iFold:6---------------------\n"
     ]
    },
    {
     "name": "stderr",
     "output_type": "stream",
     "text": [
      "/Users/shibozhang/anaconda/lib/python3.6/site-packages/pandas/core/indexing.py:362: SettingWithCopyWarning: \n",
      "A value is trying to be set on a copy of a slice from a DataFrame.\n",
      "Try using .loc[row_indexer,col_indexer] = value instead\n",
      "\n",
      "See the caveats in the documentation: http://pandas.pydata.org/pandas-docs/stable/indexing.html#indexing-view-versus-copy\n",
      "  self.obj[key] = _infer_fill_value(value)\n",
      "/Users/shibozhang/anaconda/lib/python3.6/site-packages/pandas/core/indexing.py:543: SettingWithCopyWarning: \n",
      "A value is trying to be set on a copy of a slice from a DataFrame.\n",
      "Try using .loc[row_indexer,col_indexer] = value instead\n",
      "\n",
      "See the caveats in the documentation: http://pandas.pydata.org/pandas-docs/stable/indexing.html#indexing-view-versus-copy\n",
      "  self.obj[item] = s\n"
     ]
    },
    {
     "name": "stdout",
     "output_type": "stream",
     "text": [
      "---------------------svm(rbf)----------------\n",
      "0.34210526315789475\n",
      "[[ 10 147]\n",
      " [  3  39]]\n",
      "---------------------rf----------------\n",
      "0.5869565217391305\n",
      "[[134  23]\n",
      " [ 15  27]]\n",
      "---------------------lr----------------\n",
      "0.6141732283464567\n",
      "[[111  46]\n",
      " [  3  39]]\n",
      "------iFold:7---------------------\n"
     ]
    },
    {
     "name": "stderr",
     "output_type": "stream",
     "text": [
      "/Users/shibozhang/anaconda/lib/python3.6/site-packages/pandas/core/indexing.py:362: SettingWithCopyWarning: \n",
      "A value is trying to be set on a copy of a slice from a DataFrame.\n",
      "Try using .loc[row_indexer,col_indexer] = value instead\n",
      "\n",
      "See the caveats in the documentation: http://pandas.pydata.org/pandas-docs/stable/indexing.html#indexing-view-versus-copy\n",
      "  self.obj[key] = _infer_fill_value(value)\n",
      "/Users/shibozhang/anaconda/lib/python3.6/site-packages/pandas/core/indexing.py:543: SettingWithCopyWarning: \n",
      "A value is trying to be set on a copy of a slice from a DataFrame.\n",
      "Try using .loc[row_indexer,col_indexer] = value instead\n",
      "\n",
      "See the caveats in the documentation: http://pandas.pydata.org/pandas-docs/stable/indexing.html#indexing-view-versus-copy\n",
      "  self.obj[item] = s\n"
     ]
    },
    {
     "name": "stdout",
     "output_type": "stream",
     "text": [
      "---------------------svm(rbf)----------------\n",
      "0.3055555555555556\n",
      "[[ 16 141]\n",
      " [  9  33]]\n",
      "---------------------rf----------------\n",
      "0.5894736842105263\n",
      "[[132  25]\n",
      " [ 14  28]]\n",
      "---------------------lr----------------\n",
      "0.496551724137931\n",
      "[[90 67]\n",
      " [ 6 36]]\n",
      "------iFold:8---------------------\n"
     ]
    },
    {
     "name": "stderr",
     "output_type": "stream",
     "text": [
      "/Users/shibozhang/anaconda/lib/python3.6/site-packages/pandas/core/indexing.py:362: SettingWithCopyWarning: \n",
      "A value is trying to be set on a copy of a slice from a DataFrame.\n",
      "Try using .loc[row_indexer,col_indexer] = value instead\n",
      "\n",
      "See the caveats in the documentation: http://pandas.pydata.org/pandas-docs/stable/indexing.html#indexing-view-versus-copy\n",
      "  self.obj[key] = _infer_fill_value(value)\n",
      "/Users/shibozhang/anaconda/lib/python3.6/site-packages/pandas/core/indexing.py:543: SettingWithCopyWarning: \n",
      "A value is trying to be set on a copy of a slice from a DataFrame.\n",
      "Try using .loc[row_indexer,col_indexer] = value instead\n",
      "\n",
      "See the caveats in the documentation: http://pandas.pydata.org/pandas-docs/stable/indexing.html#indexing-view-versus-copy\n",
      "  self.obj[item] = s\n"
     ]
    },
    {
     "name": "stdout",
     "output_type": "stream",
     "text": [
      "---------------------svm(rbf)----------------\n",
      "0.08695652173913043\n",
      "[[154   2]\n",
      " [ 40   2]]\n",
      "---------------------rf----------------\n",
      "0.3448275862068966\n",
      "[[150   6]\n",
      " [ 32  10]]\n",
      "---------------------lr----------------\n",
      "0.4666666666666667\n",
      "[[129  27]\n",
      " [ 21  21]]\n",
      "------iFold:9---------------------\n"
     ]
    },
    {
     "name": "stderr",
     "output_type": "stream",
     "text": [
      "/Users/shibozhang/anaconda/lib/python3.6/site-packages/pandas/core/indexing.py:362: SettingWithCopyWarning: \n",
      "A value is trying to be set on a copy of a slice from a DataFrame.\n",
      "Try using .loc[row_indexer,col_indexer] = value instead\n",
      "\n",
      "See the caveats in the documentation: http://pandas.pydata.org/pandas-docs/stable/indexing.html#indexing-view-versus-copy\n",
      "  self.obj[key] = _infer_fill_value(value)\n",
      "/Users/shibozhang/anaconda/lib/python3.6/site-packages/pandas/core/indexing.py:543: SettingWithCopyWarning: \n",
      "A value is trying to be set on a copy of a slice from a DataFrame.\n",
      "Try using .loc[row_indexer,col_indexer] = value instead\n",
      "\n",
      "See the caveats in the documentation: http://pandas.pydata.org/pandas-docs/stable/indexing.html#indexing-view-versus-copy\n",
      "  self.obj[item] = s\n"
     ]
    },
    {
     "name": "stdout",
     "output_type": "stream",
     "text": [
      "---------------------svm(rbf)----------------\n",
      "0.34977578475336324\n",
      "[[ 14 142]\n",
      " [  3  39]]\n",
      "---------------------rf----------------\n",
      "0.6046511627906976\n",
      "[[138  18]\n",
      " [ 16  26]]\n",
      "---------------------lr----------------\n",
      "0.6407766990291263\n",
      "[[128  28]\n",
      " [  9  33]]\n",
      "---------------------Final----------------\n",
      "---------------------svm(rbf)----------------\n",
      "0.32529375386518244\n",
      "{'0': {'recall': 0.40625, 'precision': 0.7992471769134254, 'f1': 0.5386892177589852}, '1': {'recall': 0.6217494089834515, 'precision': 0.2202680067001675, 'f1': 0.32529375386518244}, 'average': {'accuracy': 0.45203415369161226, 'recall_all': 0.5139997044917257, 'precision_all': 0.5097575918067965, 'fscore_all': 0.4319914858120838}}\n",
      "[[637 931]\n",
      " [160 263]]\n",
      "---------------------rf----------------\n",
      "0.5443645083932853\n",
      "{'0': {'recall': 0.8826530612244898, 'precision': 0.8759493670886076, 'f1': 0.8792884371029225}, '1': {'recall': 0.5366430260047281, 'precision': 0.5523114355231143, 'f1': 0.5443645083932853}, 'average': {'accuracy': 0.8091411351079859, 'recall_all': 0.709648043614609, 'precision_all': 0.7141304013058609, 'fscore_all': 0.711826472748104}}\n",
      "[[1384  184]\n",
      " [ 196  227]]\n",
      "---------------------lr----------------\n",
      "0.5334491746307559\n",
      "{'0': {'recall': 0.7315051020408163, 'precision': 0.9081551860649247, 'f1': 0.8103143765453903}, '1': {'recall': 0.7257683215130024, 'precision': 0.4217032967032967, 'f1': 0.5334491746307559}, 'average': {'accuracy': 0.730286288297338, 'recall_all': 0.7286367117769094, 'precision_all': 0.6649292413841107, 'fscore_all': 0.671881775588073}}\n",
      "[[1147  421]\n",
      " [ 116  307]]\n"
     ]
    }
   ],
   "source": [
    "from sklearn import svm\n",
    "from sklearn.model_selection import train_test_split\n",
    "from sklearn.ensemble import RandomForestClassifier\n",
    "from sklearn.linear_model import LogisticRegression\n",
    "from sklearn.model_selection import StratifiedKFold,KFold\n",
    "\n",
    "\n",
    "\n",
    "#read data first\n",
    "fd_folder='All/fd/fd_groundtruthsegmentation.csv'\n",
    "dd_folder='All/dd/dd_groundtruthsegmentation.csv'\n",
    "sd_folder='All/sd/sd_groundtruthsegmentation.csv'\n",
    "cd_folder='All/cd/cd_groundtruthsegmentation.csv'\n",
    "null_folder='All/null/null_groundtruthsegmentation.csv'\n",
    "fd,dd,sd,cd=pd.read_csv(fd_folder),pd.read_csv(dd_folder),pd.read_csv(sd_folder),pd.read_csv(cd_folder)\n",
    "null=pd.read_csv(null_folder)\n",
    "\n",
    "#definle label\n",
    "positive_group=pd.concat([fd,dd])\n",
    "positive_group['label']=1\n",
    "\n",
    "negative_group=pd.concat([null])\n",
    "negative_group['label']=0\n",
    "total_group=pd.concat([positive_group,negative_group])\n",
    "\n",
    "#cluster number\n",
    "cluster_number=2\n",
    "\n",
    "clf_list=[svm.SVC(),RandomForestClassifier(n_estimators=185),LogisticRegression()]#,svm.SVC(kernel='poly'),svm.SVC(kernel='sigmoid'),\n",
    "clf_names=['svm(rbf)','rf','lr']#,'svm(poly)','svm(sigmoid)'\n",
    "\n",
    "skf = StratifiedKFold(n_splits=10, shuffle=True, random_state=1)\n",
    "\n",
    "for clf_name in clf_names:\n",
    "    vars()['gt_all_folds_'+clf_name] = []\n",
    "    vars()['pd_all_folds_'+clf_name] = []\n",
    "\n",
    "iFold = 0\n",
    "for XY_trn_idx, XY_test_idx in skf.split(total_group.values[:,:-1],\n",
    "                                        total_group['label'].values):\n",
    "    \n",
    "    print('------iFold:'+str(iFold)+'---------------------')\n",
    "\n",
    "\n",
    "    trn_group = total_group.iloc[XY_trn_idx]\n",
    "    names = trn_group.columns\n",
    "    test_group = total_group.iloc[XY_test_idx]\n",
    "    X_train, X_test = trn_group.values[:,:-1], test_group.values[:,:-1]\n",
    "    y_train, y_test = trn_group.values[:,-1], test_group.values[:,-1]\n",
    "\n",
    "    # subsampling balancing will harm clustering, so cannot be used\n",
    "#     X_train, y_train = balanced_subsample(X_train,y_train,subsample_size=1.0)\n",
    "\n",
    "#     X_train, y_train = SMOTE().fit_sample(X_train, y_train)\n",
    "    X_train, y_train = ADASYN().fit_sample(X_train, y_train)\n",
    "    trn_group = pd.DataFrame(data=np.hstack((X_train,y_train[:,np.newaxis])),columns=names)\n",
    "\n",
    "\n",
    "    \n",
    "    # normalization\n",
    "    normalizer = standard_normalizer(X_train)\n",
    "    X_train = normalizer(X_train)\n",
    "    X_test = normalizer(X_test)\n",
    "    \n",
    "    #fit the data\n",
    "    kmeans = MiniBatchKMeans(n_clusters=cluster_number).fit(X_train)\n",
    "\n",
    "    # train\n",
    "    # ........assign each data a label\n",
    "    trn_group.loc[:,'cluster_id']=kmeans.predict(X_train)\n",
    "\n",
    "    for i in range(cluster_number):\n",
    "        vars()['XY_trn_cluster_'+str(i)] = trn_group[trn_group['cluster_id']==i]\n",
    "\n",
    "        for (clf_type, clf_name) in zip(clf_list, clf_names):\n",
    "            vars()['cluster'+str(i)+'_'+clf_name] = clf_type.fit(vars()['XY_trn_cluster_'+str(i)].values[:,:-2],\n",
    "                                                                 vars()['XY_trn_cluster_'+str(i)]['label'].values)\n",
    "    \n",
    "    # test\n",
    "    # ........assign each data a label\n",
    "    test_group.loc[:,'cluster_id']=kmeans.predict(X_test)\n",
    "    \n",
    "    for clf_name in clf_names:\n",
    "        vars()['gt_all_clusters_'+clf_name] = []\n",
    "        vars()['pd_all_clusters_'+clf_name] = []\n",
    "    \n",
    "        for i in range(cluster_number):\n",
    "            vars()['XY_test_cluster_'+str(i)] = test_group[test_group['cluster_id']==i]\n",
    "            vars()['gt_all_clusters_'+clf_name].append(vars()['XY_test_cluster_'+str(i)]['label'].values)\n",
    "            vars()['pd_all_clusters_'+clf_name].append(\n",
    "                vars()['cluster'+str(i)+'_'+clf_name].predict(vars()['XY_test_cluster_'+str(i)].values[:,:-2]))\n",
    "        \n",
    "        vars()['gt_all_clusters_'+clf_name]=np.concatenate(vars()['gt_all_clusters_'+clf_name])\n",
    "        vars()['pd_all_clusters_'+clf_name]=np.concatenate(vars()['pd_all_clusters_'+clf_name])\n",
    "\n",
    "        result,_cm = calc_multi_cm(vars()['gt_all_clusters_'+clf_name], vars()['pd_all_clusters_'+clf_name])\n",
    "        print('---------------------'+clf_name+'----------------')\n",
    "        print(result['1']['f1'])\n",
    "#         print(result)\n",
    "        print(_cm)\n",
    "\n",
    "        vars()['pd_all_folds_'+clf_name].append(vars()['pd_all_clusters_'+clf_name])\n",
    "        vars()['gt_all_folds_'+clf_name].append(vars()['gt_all_clusters_'+clf_name])\n",
    "\n",
    "    iFold += 1\n",
    "\n",
    "print('---------------------Final----------------')\n",
    "\n",
    "for clf_name in clf_names:\n",
    "    vars()['gt_all_folds_'+clf_name]=np.concatenate(vars()['gt_all_folds_'+clf_name])\n",
    "    vars()['pd_all_folds_'+clf_name]=np.concatenate(vars()['pd_all_folds_'+clf_name])\n",
    "    \n",
    "    result,_cm = calc_multi_cm(vars()['gt_all_folds_'+clf_name], vars()['pd_all_folds_'+clf_name])\n",
    "\n",
    "    print('---------------------'+clf_name+'----------------')\n",
    "    print(result['1']['f1'])\n",
    "    print(result)\n",
    "    print(_cm)\n"
   ]
  },
  {
   "cell_type": "code",
   "execution_count": null,
   "metadata": {
    "collapsed": true
   },
   "outputs": [],
   "source": []
  }
 ],
 "metadata": {
  "kernelspec": {
   "display_name": "Python 3",
   "language": "python",
   "name": "python3"
  },
  "language_info": {
   "codemirror_mode": {
    "name": "ipython",
    "version": 3
   },
   "file_extension": ".py",
   "mimetype": "text/x-python",
   "name": "python",
   "nbconvert_exporter": "python",
   "pygments_lexer": "ipython3",
   "version": "3.6.0"
  }
 },
 "nbformat": 4,
 "nbformat_minor": 2
}
