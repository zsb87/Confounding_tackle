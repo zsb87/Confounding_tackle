{
 "cells": [
  {
   "cell_type": "code",
   "execution_count": 2,
   "metadata": {
    "collapsed": false
   },
   "outputs": [],
   "source": [
    "# import beyourself\n",
    "import pandas as pd\n",
    "import numpy as np\n",
    "import os\n",
    "from sklearn.manifold import TSNE\n",
    "import time\n",
    "from matplotlib import pyplot as plt\n",
    "from sklearn.cluster import KMeans\n",
    "from sklearn.cluster import MiniBatchKMeans\n",
    "from sklearn.metrics import confusion_matrix, mean_squared_error\n",
    "from utils import balanced_subsample\n",
    "from imblearn.over_sampling import ADASYN, SMOTE, RandomOverSampler\n"
   ]
  },
  {
   "cell_type": "markdown",
   "metadata": {},
   "source": [
    "## train: DBSACN cluster，\n",
    "## test: kNN classification"
   ]
  },
  {
   "cell_type": "code",
   "execution_count": 3,
   "metadata": {
    "collapsed": true
   },
   "outputs": [],
   "source": [
    "def standard_normalizer(x):\n",
    "    x = x.T\n",
    "    # compute the mean and standard deviation of the input\n",
    "    x_means = np.mean(x,axis = 1)[:,np.newaxis]\n",
    "    x_stds = np.std(x,axis = 1)[:,np.newaxis]   \n",
    "\n",
    "    # create standard normalizer function based on input data statistics\n",
    "    normalizer = lambda data: ((data.T - x_means)/x_stds).T\n",
    "    \n",
    "    # return normalizer and inverse_normalizer\n",
    "    return normalizer"
   ]
  },
  {
   "cell_type": "code",
   "execution_count": 4,
   "metadata": {
    "collapsed": true
   },
   "outputs": [],
   "source": [
    "def calc_multi_cm(y_gt, y_pred):    \n",
    "    # ct = pd.crosstab(y_gt, y_pred, rownames=['True'], colnames=['Predicted'], margins=True).apply(lambda r: r/r.sum(), axis=1)\n",
    "    ct = pd.crosstab(y_gt, y_pred, rownames=['True'], colnames=['Predicted'], margins=True)\n",
    "    # print(ct)\n",
    "    # ct.to_csv(cm_file)\n",
    "\n",
    "    # Compute confusion matrix\n",
    "    multi_cm = confusion_matrix(y_gt, y_pred)\n",
    "    \n",
    "    accuracy = sum(multi_cm[i,i] for i in range(len(set(y_gt))))/sum(sum(multi_cm[i] for i in range(len(set(y_gt)))))\n",
    "    recall_all = sum(multi_cm[i,i]/sum(multi_cm[i,j] for j in range(len(set(y_gt)))) for i in range(len(set(y_gt))))/(len(set(y_gt)))\n",
    "    precision_all = sum(multi_cm[i,i]/sum(multi_cm[j,i] for j in range(len(set(y_gt)))) for i in range(len(set(y_gt))))/(len(set(y_gt)))\n",
    "    fscore_all = sum(2*(multi_cm[i,i]/sum(multi_cm[i,j] for j in range(len(set(y_gt)))))*(multi_cm[i,i]/sum(multi_cm[j,i] for j in range(len(set(y_gt)))))/(multi_cm[i,i]/sum(multi_cm[i,j] for j in range(len(set(y_gt))))+multi_cm[i,i]/sum(multi_cm[j,i] for j in range(len(set(y_gt))))) for i in range(len(set(y_gt))))/len(set(y_gt))\n",
    "    \n",
    "    result={}\n",
    "\n",
    "    for i in np.unique(y_gt):\n",
    "\n",
    "        i_gt = (y_gt==i).astype(int)\n",
    "        i_pred = (y_pred==i).astype(int)\n",
    "\n",
    "        cm = confusion_matrix(i_gt, i_pred)\n",
    "\n",
    "        i_result = {}\n",
    "\n",
    "        TP = cm[1,1]\n",
    "        FP = cm[0,1]\n",
    "        TN = cm[0,0]\n",
    "        FN = cm[1,0]\n",
    "        # Precision for Positive = TP/(TP + FP)\n",
    "        prec_pos = TP/(TP + FP)\n",
    "        # F1 score for positive = 2 * precision * recall / (precision + recall)….or it can be F1= 2*TP/(2*TP + FP+ FN)\n",
    "        f1_pos = 2*TP/(TP*2 + FP+ FN)\n",
    "        # TPR = TP/(TP+FN)\n",
    "        TPR = cm[1,1]/sum(cm[1,j] for j in range(len(set(i_gt))))\n",
    "\n",
    "        i_result = {'recall': TPR, 'precision': prec_pos, 'f1': f1_pos}\n",
    "\n",
    "        result[str(int(i))] = i_result\n",
    "\n",
    "    ave_result = {'accuracy':accuracy, 'recall_all':recall_all, 'precision_all':precision_all, 'fscore_all':fscore_all}\n",
    "    result['average'] = ave_result\n",
    "\n",
    "    return result, multi_cm\n"
   ]
  },
  {
   "cell_type": "code",
   "execution_count": 5,
   "metadata": {
    "collapsed": false,
    "scrolled": false
   },
   "outputs": [
    {
     "name": "stdout",
     "output_type": "stream",
     "text": [
      "------iFold:0---------------------\n"
     ]
    },
    {
     "name": "stderr",
     "output_type": "stream",
     "text": [
      "/Users/shibozhang/anaconda/lib/python3.6/site-packages/pandas/core/indexing.py:362: SettingWithCopyWarning: \n",
      "A value is trying to be set on a copy of a slice from a DataFrame.\n",
      "Try using .loc[row_indexer,col_indexer] = value instead\n",
      "\n",
      "See the caveats in the documentation: http://pandas.pydata.org/pandas-docs/stable/indexing.html#indexing-view-versus-copy\n",
      "  self.obj[key] = _infer_fill_value(value)\n",
      "/Users/shibozhang/anaconda/lib/python3.6/site-packages/pandas/core/indexing.py:543: SettingWithCopyWarning: \n",
      "A value is trying to be set on a copy of a slice from a DataFrame.\n",
      "Try using .loc[row_indexer,col_indexer] = value instead\n",
      "\n",
      "See the caveats in the documentation: http://pandas.pydata.org/pandas-docs/stable/indexing.html#indexing-view-versus-copy\n",
      "  self.obj[item] = s\n"
     ]
    },
    {
     "name": "stdout",
     "output_type": "stream",
     "text": [
      "---------------------svm(rbf)----------------\n",
      "0.459893048128\n",
      "[[ 56 101]\n",
      " [  0  43]]\n",
      "---------------------rf----------------\n",
      "0.66\n",
      "[[133  24]\n",
      " [ 10  33]]\n",
      "---------------------lr----------------\n",
      "0.712871287129\n",
      "[[135  22]\n",
      " [  7  36]]\n",
      "------iFold:1---------------------\n"
     ]
    },
    {
     "name": "stderr",
     "output_type": "stream",
     "text": [
      "/Users/shibozhang/anaconda/lib/python3.6/site-packages/pandas/core/indexing.py:362: SettingWithCopyWarning: \n",
      "A value is trying to be set on a copy of a slice from a DataFrame.\n",
      "Try using .loc[row_indexer,col_indexer] = value instead\n",
      "\n",
      "See the caveats in the documentation: http://pandas.pydata.org/pandas-docs/stable/indexing.html#indexing-view-versus-copy\n",
      "  self.obj[key] = _infer_fill_value(value)\n",
      "/Users/shibozhang/anaconda/lib/python3.6/site-packages/pandas/core/indexing.py:543: SettingWithCopyWarning: \n",
      "A value is trying to be set on a copy of a slice from a DataFrame.\n",
      "Try using .loc[row_indexer,col_indexer] = value instead\n",
      "\n",
      "See the caveats in the documentation: http://pandas.pydata.org/pandas-docs/stable/indexing.html#indexing-view-versus-copy\n",
      "  self.obj[item] = s\n",
      "/Users/shibozhang/anaconda/lib/python3.6/site-packages/ipykernel/__main__.py:12: RuntimeWarning: invalid value encountered in long_scalars\n",
      "/Users/shibozhang/anaconda/lib/python3.6/site-packages/ipykernel/__main__.py:13: RuntimeWarning: invalid value encountered in long_scalars\n",
      "/Users/shibozhang/anaconda/lib/python3.6/site-packages/ipykernel/__main__.py:31: RuntimeWarning: invalid value encountered in long_scalars\n"
     ]
    },
    {
     "name": "stdout",
     "output_type": "stream",
     "text": [
      "---------------------svm(rbf)----------------\n",
      "0.353909465021\n",
      "[[  0 157]\n",
      " [  0  43]]\n",
      "---------------------rf----------------\n",
      "0.639344262295\n",
      "[[117  40]\n",
      " [  4  39]]\n",
      "---------------------lr----------------\n",
      "0.565217391304\n",
      "[[101  56]\n",
      " [  4  39]]\n",
      "------iFold:2---------------------\n"
     ]
    },
    {
     "name": "stderr",
     "output_type": "stream",
     "text": [
      "/Users/shibozhang/anaconda/lib/python3.6/site-packages/pandas/core/indexing.py:362: SettingWithCopyWarning: \n",
      "A value is trying to be set on a copy of a slice from a DataFrame.\n",
      "Try using .loc[row_indexer,col_indexer] = value instead\n",
      "\n",
      "See the caveats in the documentation: http://pandas.pydata.org/pandas-docs/stable/indexing.html#indexing-view-versus-copy\n",
      "  self.obj[key] = _infer_fill_value(value)\n",
      "/Users/shibozhang/anaconda/lib/python3.6/site-packages/pandas/core/indexing.py:543: SettingWithCopyWarning: \n",
      "A value is trying to be set on a copy of a slice from a DataFrame.\n",
      "Try using .loc[row_indexer,col_indexer] = value instead\n",
      "\n",
      "See the caveats in the documentation: http://pandas.pydata.org/pandas-docs/stable/indexing.html#indexing-view-versus-copy\n",
      "  self.obj[item] = s\n",
      "/Users/shibozhang/anaconda/lib/python3.6/site-packages/ipykernel/__main__.py:12: RuntimeWarning: invalid value encountered in long_scalars\n",
      "/Users/shibozhang/anaconda/lib/python3.6/site-packages/ipykernel/__main__.py:13: RuntimeWarning: invalid value encountered in long_scalars\n",
      "/Users/shibozhang/anaconda/lib/python3.6/site-packages/ipykernel/__main__.py:31: RuntimeWarning: invalid value encountered in long_scalars\n"
     ]
    },
    {
     "name": "stdout",
     "output_type": "stream",
     "text": [
      "---------------------svm(rbf)----------------\n",
      "0.353909465021\n",
      "[[  0 157]\n",
      " [  0  43]]\n",
      "---------------------rf----------------\n",
      "0.65\n",
      "[[119  38]\n",
      " [  4  39]]\n",
      "---------------------lr----------------\n",
      "0.639344262295\n",
      "[[117  40]\n",
      " [  4  39]]\n",
      "------iFold:3---------------------\n"
     ]
    },
    {
     "name": "stderr",
     "output_type": "stream",
     "text": [
      "/Users/shibozhang/anaconda/lib/python3.6/site-packages/pandas/core/indexing.py:362: SettingWithCopyWarning: \n",
      "A value is trying to be set on a copy of a slice from a DataFrame.\n",
      "Try using .loc[row_indexer,col_indexer] = value instead\n",
      "\n",
      "See the caveats in the documentation: http://pandas.pydata.org/pandas-docs/stable/indexing.html#indexing-view-versus-copy\n",
      "  self.obj[key] = _infer_fill_value(value)\n",
      "/Users/shibozhang/anaconda/lib/python3.6/site-packages/pandas/core/indexing.py:543: SettingWithCopyWarning: \n",
      "A value is trying to be set on a copy of a slice from a DataFrame.\n",
      "Try using .loc[row_indexer,col_indexer] = value instead\n",
      "\n",
      "See the caveats in the documentation: http://pandas.pydata.org/pandas-docs/stable/indexing.html#indexing-view-versus-copy\n",
      "  self.obj[item] = s\n"
     ]
    },
    {
     "name": "stdout",
     "output_type": "stream",
     "text": [
      "---------------------svm(rbf)----------------\n",
      "0.383561643836\n",
      "[[ 22 135]\n",
      " [  0  42]]\n",
      "---------------------rf----------------\n",
      "0.466165413534\n",
      "[[97 60]\n",
      " [11 31]]\n",
      "---------------------lr----------------\n",
      "0.516129032258\n",
      "[[84 73]\n",
      " [ 2 40]]\n",
      "------iFold:4---------------------\n"
     ]
    },
    {
     "name": "stderr",
     "output_type": "stream",
     "text": [
      "/Users/shibozhang/anaconda/lib/python3.6/site-packages/pandas/core/indexing.py:362: SettingWithCopyWarning: \n",
      "A value is trying to be set on a copy of a slice from a DataFrame.\n",
      "Try using .loc[row_indexer,col_indexer] = value instead\n",
      "\n",
      "See the caveats in the documentation: http://pandas.pydata.org/pandas-docs/stable/indexing.html#indexing-view-versus-copy\n",
      "  self.obj[key] = _infer_fill_value(value)\n",
      "/Users/shibozhang/anaconda/lib/python3.6/site-packages/pandas/core/indexing.py:543: SettingWithCopyWarning: \n",
      "A value is trying to be set on a copy of a slice from a DataFrame.\n",
      "Try using .loc[row_indexer,col_indexer] = value instead\n",
      "\n",
      "See the caveats in the documentation: http://pandas.pydata.org/pandas-docs/stable/indexing.html#indexing-view-versus-copy\n",
      "  self.obj[item] = s\n"
     ]
    },
    {
     "name": "stdout",
     "output_type": "stream",
     "text": [
      "---------------------svm(rbf)----------------\n",
      "0.394366197183\n",
      "[[ 28 129]\n",
      " [  0  42]]\n",
      "---------------------rf----------------\n",
      "0.894736842105\n",
      "[[157   0]\n",
      " [  8  34]]\n",
      "---------------------lr----------------\n",
      "0.635514018692\n",
      "[[126  31]\n",
      " [  8  34]]\n",
      "------iFold:5---------------------\n"
     ]
    },
    {
     "name": "stderr",
     "output_type": "stream",
     "text": [
      "/Users/shibozhang/anaconda/lib/python3.6/site-packages/pandas/core/indexing.py:362: SettingWithCopyWarning: \n",
      "A value is trying to be set on a copy of a slice from a DataFrame.\n",
      "Try using .loc[row_indexer,col_indexer] = value instead\n",
      "\n",
      "See the caveats in the documentation: http://pandas.pydata.org/pandas-docs/stable/indexing.html#indexing-view-versus-copy\n",
      "  self.obj[key] = _infer_fill_value(value)\n",
      "/Users/shibozhang/anaconda/lib/python3.6/site-packages/pandas/core/indexing.py:543: SettingWithCopyWarning: \n",
      "A value is trying to be set on a copy of a slice from a DataFrame.\n",
      "Try using .loc[row_indexer,col_indexer] = value instead\n",
      "\n",
      "See the caveats in the documentation: http://pandas.pydata.org/pandas-docs/stable/indexing.html#indexing-view-versus-copy\n",
      "  self.obj[item] = s\n",
      "/Users/shibozhang/anaconda/lib/python3.6/site-packages/ipykernel/__main__.py:13: RuntimeWarning: invalid value encountered in double_scalars\n"
     ]
    },
    {
     "name": "stdout",
     "output_type": "stream",
     "text": [
      "---------------------svm(rbf)----------------\n",
      "0.0\n",
      "[[155   2]\n",
      " [ 42   0]]\n",
      "---------------------rf----------------\n",
      "0.196078431373\n",
      "[[153   4]\n",
      " [ 37   5]]\n",
      "---------------------lr----------------\n",
      "0.235294117647\n",
      "[[139  18]\n",
      " [ 34   8]]\n",
      "------iFold:6---------------------\n"
     ]
    },
    {
     "name": "stderr",
     "output_type": "stream",
     "text": [
      "/Users/shibozhang/anaconda/lib/python3.6/site-packages/pandas/core/indexing.py:362: SettingWithCopyWarning: \n",
      "A value is trying to be set on a copy of a slice from a DataFrame.\n",
      "Try using .loc[row_indexer,col_indexer] = value instead\n",
      "\n",
      "See the caveats in the documentation: http://pandas.pydata.org/pandas-docs/stable/indexing.html#indexing-view-versus-copy\n",
      "  self.obj[key] = _infer_fill_value(value)\n",
      "/Users/shibozhang/anaconda/lib/python3.6/site-packages/pandas/core/indexing.py:543: SettingWithCopyWarning: \n",
      "A value is trying to be set on a copy of a slice from a DataFrame.\n",
      "Try using .loc[row_indexer,col_indexer] = value instead\n",
      "\n",
      "See the caveats in the documentation: http://pandas.pydata.org/pandas-docs/stable/indexing.html#indexing-view-versus-copy\n",
      "  self.obj[item] = s\n"
     ]
    },
    {
     "name": "stdout",
     "output_type": "stream",
     "text": [
      "---------------------svm(rbf)----------------\n",
      "0.385321100917\n",
      "[[ 23 134]\n",
      " [  0  42]]\n",
      "---------------------rf----------------\n",
      "0.561983471074\n",
      "[[112  45]\n",
      " [  8  34]]\n",
      "---------------------lr----------------\n",
      "0.489208633094\n",
      "[[94 63]\n",
      " [ 8 34]]\n",
      "------iFold:7---------------------\n"
     ]
    },
    {
     "name": "stderr",
     "output_type": "stream",
     "text": [
      "/Users/shibozhang/anaconda/lib/python3.6/site-packages/pandas/core/indexing.py:362: SettingWithCopyWarning: \n",
      "A value is trying to be set on a copy of a slice from a DataFrame.\n",
      "Try using .loc[row_indexer,col_indexer] = value instead\n",
      "\n",
      "See the caveats in the documentation: http://pandas.pydata.org/pandas-docs/stable/indexing.html#indexing-view-versus-copy\n",
      "  self.obj[key] = _infer_fill_value(value)\n",
      "/Users/shibozhang/anaconda/lib/python3.6/site-packages/pandas/core/indexing.py:543: SettingWithCopyWarning: \n",
      "A value is trying to be set on a copy of a slice from a DataFrame.\n",
      "Try using .loc[row_indexer,col_indexer] = value instead\n",
      "\n",
      "See the caveats in the documentation: http://pandas.pydata.org/pandas-docs/stable/indexing.html#indexing-view-versus-copy\n",
      "  self.obj[item] = s\n",
      "/Users/shibozhang/anaconda/lib/python3.6/site-packages/ipykernel/__main__.py:13: RuntimeWarning: invalid value encountered in double_scalars\n"
     ]
    },
    {
     "name": "stdout",
     "output_type": "stream",
     "text": [
      "---------------------svm(rbf)----------------\n",
      "0.0\n",
      "[[153   4]\n",
      " [ 42   0]]\n",
      "---------------------rf----------------\n",
      "0.523076923077\n",
      "[[151   6]\n",
      " [ 25  17]]\n",
      "---------------------lr----------------\n",
      "0.5\n",
      "[[85 72]\n",
      " [ 4 38]]\n",
      "------iFold:8---------------------\n"
     ]
    },
    {
     "name": "stderr",
     "output_type": "stream",
     "text": [
      "/Users/shibozhang/anaconda/lib/python3.6/site-packages/pandas/core/indexing.py:362: SettingWithCopyWarning: \n",
      "A value is trying to be set on a copy of a slice from a DataFrame.\n",
      "Try using .loc[row_indexer,col_indexer] = value instead\n",
      "\n",
      "See the caveats in the documentation: http://pandas.pydata.org/pandas-docs/stable/indexing.html#indexing-view-versus-copy\n",
      "  self.obj[key] = _infer_fill_value(value)\n",
      "/Users/shibozhang/anaconda/lib/python3.6/site-packages/pandas/core/indexing.py:543: SettingWithCopyWarning: \n",
      "A value is trying to be set on a copy of a slice from a DataFrame.\n",
      "Try using .loc[row_indexer,col_indexer] = value instead\n",
      "\n",
      "See the caveats in the documentation: http://pandas.pydata.org/pandas-docs/stable/indexing.html#indexing-view-versus-copy\n",
      "  self.obj[item] = s\n",
      "/Users/shibozhang/anaconda/lib/python3.6/site-packages/ipykernel/__main__.py:12: RuntimeWarning: invalid value encountered in long_scalars\n",
      "/Users/shibozhang/anaconda/lib/python3.6/site-packages/ipykernel/__main__.py:13: RuntimeWarning: invalid value encountered in long_scalars\n",
      "/Users/shibozhang/anaconda/lib/python3.6/site-packages/ipykernel/__main__.py:31: RuntimeWarning: invalid value encountered in long_scalars\n"
     ]
    },
    {
     "name": "stdout",
     "output_type": "stream",
     "text": [
      "---------------------svm(rbf)----------------\n",
      "0.0\n",
      "[[156   0]\n",
      " [ 42   0]]\n",
      "---------------------rf----------------\n",
      "0.384615384615\n",
      "[[156   0]\n",
      " [ 32  10]]\n",
      "---------------------lr----------------\n",
      "0.530612244898\n",
      "[[90 66]\n",
      " [ 3 39]]\n",
      "------iFold:9---------------------\n"
     ]
    },
    {
     "name": "stderr",
     "output_type": "stream",
     "text": [
      "/Users/shibozhang/anaconda/lib/python3.6/site-packages/pandas/core/indexing.py:362: SettingWithCopyWarning: \n",
      "A value is trying to be set on a copy of a slice from a DataFrame.\n",
      "Try using .loc[row_indexer,col_indexer] = value instead\n",
      "\n",
      "See the caveats in the documentation: http://pandas.pydata.org/pandas-docs/stable/indexing.html#indexing-view-versus-copy\n",
      "  self.obj[key] = _infer_fill_value(value)\n",
      "/Users/shibozhang/anaconda/lib/python3.6/site-packages/pandas/core/indexing.py:543: SettingWithCopyWarning: \n",
      "A value is trying to be set on a copy of a slice from a DataFrame.\n",
      "Try using .loc[row_indexer,col_indexer] = value instead\n",
      "\n",
      "See the caveats in the documentation: http://pandas.pydata.org/pandas-docs/stable/indexing.html#indexing-view-versus-copy\n",
      "  self.obj[item] = s\n",
      "/Users/shibozhang/anaconda/lib/python3.6/site-packages/ipykernel/__main__.py:13: RuntimeWarning: invalid value encountered in double_scalars\n"
     ]
    },
    {
     "name": "stdout",
     "output_type": "stream",
     "text": [
      "---------------------svm(rbf)----------------\n",
      "0.329113924051\n",
      "[[  0 156]\n",
      " [  3  39]]\n",
      "---------------------rf----------------\n",
      "0.504201680672\n",
      "[[109  47]\n",
      " [ 12  30]]\n",
      "---------------------lr----------------\n",
      "0.440251572327\n",
      "[[74 82]\n",
      " [ 7 35]]\n",
      "---------------------Final----------------\n",
      "---------------------svm(rbf)----------------\n",
      "0.347517730496\n",
      "{'0': {'recall': 0.37818877551020408, 'precision': 0.82132963988919672, 'f1': 0.51790393013100433}, '1': {'recall': 0.69503546099290781, 'precision': 0.23167848699763594, 'f1': 0.3475177304964539}, 'average': {'accuracy': 0.44550477147162232, 'recall_all': 0.53661211825155597, 'precision_all': 0.52650406344341638, 'fscore_all': 0.43271083031372914}}\n",
      "[[593 975]\n",
      " [129 294]]\n",
      "---------------------rf----------------\n",
      "0.567257559958\n",
      "{'0': {'recall': 0.83163265306122447, 'precision': 0.8962199312714777, 'f1': 0.86271915315911352}, '1': {'recall': 0.64302600472813243, 'precision': 0.5074626865671642, 'f1': 0.56725755995828986}, 'average': {'accuracy': 0.79156202913108986, 'recall_all': 0.7373293288946785, 'precision_all': 0.70184130891932095, 'fscore_all': 0.71498835655870163}}\n",
      "[[1304  264]\n",
      " [ 151  272]]\n",
      "---------------------lr----------------\n",
      "0.531055900621\n",
      "{'0': {'recall': 0.66645408163265307, 'precision': 0.9280639431616341, 'f1': 0.77579806978470678}, '1': {'recall': 0.80851063829787229, 'precision': 0.39537572254335263, 'f1': 0.53105590062111796}, 'average': {'accuracy': 0.69663485685585136, 'recall_all': 0.73748235996526268, 'precision_all': 0.66171983285249336, 'fscore_all': 0.65342698520291242}}\n",
      "[[1045  523]\n",
      " [  81  342]]\n"
     ]
    }
   ],
   "source": [
    "from sklearn import svm\n",
    "from sklearn.model_selection import train_test_split\n",
    "from sklearn.ensemble import RandomForestClassifier\n",
    "from sklearn.linear_model import LogisticRegression\n",
    "from sklearn.model_selection import StratifiedKFold,KFold\n",
    "\n",
    "\n",
    "\n",
    "#read data first\n",
    "fd_folder='All/fd/fd_groundtruthsegmentation.csv'\n",
    "dd_folder='All/dd/dd_groundtruthsegmentation.csv'\n",
    "sd_folder='All/sd/sd_groundtruthsegmentation.csv'\n",
    "cd_folder='All/cd/cd_groundtruthsegmentation.csv'\n",
    "null_folder='All/null/null_groundtruthsegmentation.csv'\n",
    "fd,dd,sd,cd=pd.read_csv(fd_folder),pd.read_csv(dd_folder),pd.read_csv(sd_folder),pd.read_csv(cd_folder)\n",
    "null=pd.read_csv(null_folder)\n",
    "\n",
    "#definle label\n",
    "positive_group=pd.concat([fd,dd])\n",
    "positive_group['label']=1\n",
    "\n",
    "negative_group=pd.concat([null])\n",
    "negative_group['label']=0\n",
    "total_group=pd.concat([positive_group,negative_group])\n",
    "\n",
    "#cluster number\n",
    "cluster_number=2\n",
    "\n",
    "clf_list=[svm.SVC(),RandomForestClassifier(n_estimators=185),LogisticRegression()]#,svm.SVC(kernel='poly'),svm.SVC(kernel='sigmoid'),\n",
    "clf_names=['svm(rbf)','rf','lr']#,'svm(poly)','svm(sigmoid)'\n",
    "\n",
    "skf = StratifiedKFold(n_splits=10)\n",
    "\n",
    "for clf_name in clf_names:\n",
    "    vars()['gt_all_folds_'+clf_name] = []\n",
    "    vars()['pd_all_folds_'+clf_name] = []\n",
    "\n",
    "iFold = 0\n",
    "for XY_trn_idx, XY_test_idx in skf.split(total_group.values[:,:-1],\n",
    "                                        total_group['label'].values):\n",
    "    \n",
    "    print('------iFold:'+str(iFold)+'---------------------')\n",
    "\n",
    "\n",
    "    trn_group = total_group.iloc[XY_trn_idx]\n",
    "    names = trn_group.columns\n",
    "    test_group = total_group.iloc[XY_test_idx]\n",
    "    X_train, X_test = trn_group.values[:,:-1], test_group.values[:,:-1]\n",
    "    y_train, y_test = trn_group.values[:,-1], test_group.values[:,-1]\n",
    "\n",
    "    # subsampling balancing will harm clustering, so cannot be used\n",
    "#     X_train, y_train = balanced_subsample(X_train,y_train,subsample_size=1.0)\n",
    "\n",
    "#     X_train, y_train = SMOTE().fit_sample(X_train, y_train)\n",
    "    X_train, y_train = ADASYN().fit_sample(X_train, y_train)\n",
    "    trn_group = pd.DataFrame(data=np.hstack((X_train,y_train[:,np.newaxis])),columns=names)\n",
    "\n",
    "\n",
    "    \n",
    "    # normalization\n",
    "    normalizer = standard_normalizer(X_train)\n",
    "    X_train = normalizer(X_train)\n",
    "    X_test = normalizer(X_test)\n",
    "    \n",
    "    #fit the data\n",
    "    kmeans = MiniBatchKMeans(n_clusters=cluster_number).fit(X_train)\n",
    "\n",
    "    # train\n",
    "    # ........assign each data a label\n",
    "    trn_group.loc[:,'cluster_id']=kmeans.predict(X_train)\n",
    "\n",
    "    for i in range(cluster_number):\n",
    "        vars()['XY_trn_cluster_'+str(i)] = trn_group[trn_group['cluster_id']==i]\n",
    "\n",
    "        for (clf_type, clf_name) in zip(clf_list, clf_names):\n",
    "            vars()['cluster'+str(i)+'_'+clf_name] = clf_type.fit(vars()['XY_trn_cluster_'+str(i)].values[:,:-2],\n",
    "                                                                 vars()['XY_trn_cluster_'+str(i)]['label'].values)\n",
    "    \n",
    "    # test\n",
    "    # ........assign each data a label\n",
    "    test_group.loc[:,'cluster_id']=kmeans.predict(X_test)\n",
    "    \n",
    "    for clf_name in clf_names:\n",
    "        vars()['gt_all_clusters_'+clf_name] = []\n",
    "        vars()['pd_all_clusters_'+clf_name] = []\n",
    "    \n",
    "        for i in range(cluster_number):\n",
    "            vars()['XY_test_cluster_'+str(i)] = test_group[test_group['cluster_id']==i]\n",
    "            vars()['gt_all_clusters_'+clf_name].append(vars()['XY_test_cluster_'+str(i)]['label'].values)\n",
    "            vars()['pd_all_clusters_'+clf_name].append(\n",
    "                vars()['cluster'+str(i)+'_'+clf_name].predict(vars()['XY_test_cluster_'+str(i)].values[:,:-2]))\n",
    "        \n",
    "        vars()['gt_all_clusters_'+clf_name]=np.concatenate(vars()['gt_all_clusters_'+clf_name])\n",
    "        vars()['pd_all_clusters_'+clf_name]=np.concatenate(vars()['pd_all_clusters_'+clf_name])\n",
    "\n",
    "        result,_cm = calc_multi_cm(vars()['gt_all_clusters_'+clf_name], vars()['pd_all_clusters_'+clf_name])\n",
    "        print('---------------------'+clf_name+'----------------')\n",
    "        print(result['1']['f1'])\n",
    "#         print(result)\n",
    "        print(_cm)\n",
    "\n",
    "        vars()['pd_all_folds_'+clf_name].append(vars()['pd_all_clusters_'+clf_name])\n",
    "        vars()['gt_all_folds_'+clf_name].append(vars()['gt_all_clusters_'+clf_name])\n",
    "\n",
    "    iFold += 1\n",
    "\n",
    "print('---------------------Final----------------')\n",
    "\n",
    "for clf_name in clf_names:\n",
    "    vars()['gt_all_folds_'+clf_name]=np.concatenate(vars()['gt_all_folds_'+clf_name])\n",
    "    vars()['pd_all_folds_'+clf_name]=np.concatenate(vars()['pd_all_folds_'+clf_name])\n",
    "    \n",
    "    result,_cm = calc_multi_cm(vars()['gt_all_folds_'+clf_name], vars()['pd_all_folds_'+clf_name])\n",
    "\n",
    "    print('---------------------'+clf_name+'----------------')\n",
    "    print(result['1']['f1'])\n",
    "    print(result)\n",
    "    print(_cm)\n"
   ]
  },
  {
   "cell_type": "code",
   "execution_count": 6,
   "metadata": {
    "collapsed": false
   },
   "outputs": [
    {
     "data": {
      "text/plain": [
       "1568"
      ]
     },
     "execution_count": 6,
     "metadata": {},
     "output_type": "execute_result"
    }
   ],
   "source": [
    "1045+523"
   ]
  },
  {
   "cell_type": "code",
   "execution_count": 9,
   "metadata": {
    "collapsed": false
   },
   "outputs": [
    {
     "data": {
      "text/plain": [
       "0.2697704081632653"
      ]
     },
     "execution_count": 9,
     "metadata": {},
     "output_type": "execute_result"
    }
   ],
   "source": [
    "(81+342)/(1568)"
   ]
  },
  {
   "cell_type": "code",
   "execution_count": null,
   "metadata": {
    "collapsed": true
   },
   "outputs": [],
   "source": []
  }
 ],
 "metadata": {
  "kernelspec": {
   "display_name": "Python 3",
   "language": "python",
   "name": "python3"
  },
  "language_info": {
   "codemirror_mode": {
    "name": "ipython",
    "version": 3
   },
   "file_extension": ".py",
   "mimetype": "text/x-python",
   "name": "python",
   "nbconvert_exporter": "python",
   "pygments_lexer": "ipython3",
   "version": "3.6.0"
  }
 },
 "nbformat": 4,
 "nbformat_minor": 2
}
