{
 "cells": [
  {
   "cell_type": "code",
   "execution_count": 10,
   "metadata": {
    "collapsed": false
   },
   "outputs": [],
   "source": [
    "# import beyourself\n",
    "import pandas as pd\n",
    "import numpy as np\n",
    "import os\n",
    "from sklearn.manifold import TSNE\n",
    "import time\n",
    "from matplotlib import pyplot as plt\n",
    "from sklearn.cluster import KMeans\n",
    "from sklearn.cluster import MiniBatchKMeans\n",
    "from sklearn.metrics import confusion_matrix, mean_squared_error\n",
    "from utils import balanced_subsample\n",
    "from imblearn.over_sampling import ADASYN, SMOTE, RandomOverSampler\n"
   ]
  },
  {
   "cell_type": "markdown",
   "metadata": {},
   "source": [
    "## train: DBSACN cluster，\n",
    "## test: kNN classification"
   ]
  },
  {
   "cell_type": "code",
   "execution_count": 3,
   "metadata": {
    "collapsed": true
   },
   "outputs": [],
   "source": [
    "def standard_normalizer(x):\n",
    "    x = x.T\n",
    "    # compute the mean and standard deviation of the input\n",
    "    x_means = np.mean(x,axis = 1)[:,np.newaxis]\n",
    "    x_stds = np.std(x,axis = 1)[:,np.newaxis]   \n",
    "\n",
    "    # create standard normalizer function based on input data statistics\n",
    "    normalizer = lambda data: ((data.T - x_means)/x_stds).T\n",
    "    \n",
    "    # return normalizer and inverse_normalizer\n",
    "    return normalizer"
   ]
  },
  {
   "cell_type": "code",
   "execution_count": 4,
   "metadata": {
    "collapsed": true
   },
   "outputs": [],
   "source": [
    "def calc_multi_cm(y_gt, y_pred):    \n",
    "    # ct = pd.crosstab(y_gt, y_pred, rownames=['True'], colnames=['Predicted'], margins=True).apply(lambda r: r/r.sum(), axis=1)\n",
    "    ct = pd.crosstab(y_gt, y_pred, rownames=['True'], colnames=['Predicted'], margins=True)\n",
    "    # print(ct)\n",
    "    # ct.to_csv(cm_file)\n",
    "\n",
    "    # Compute confusion matrix\n",
    "    multi_cm = confusion_matrix(y_gt, y_pred)\n",
    "    \n",
    "    accuracy = sum(multi_cm[i,i] for i in range(len(set(y_gt))))/sum(sum(multi_cm[i] for i in range(len(set(y_gt)))))\n",
    "    recall_all = sum(multi_cm[i,i]/sum(multi_cm[i,j] for j in range(len(set(y_gt)))) for i in range(len(set(y_gt))))/(len(set(y_gt)))\n",
    "    precision_all = sum(multi_cm[i,i]/sum(multi_cm[j,i] for j in range(len(set(y_gt)))) for i in range(len(set(y_gt))))/(len(set(y_gt)))\n",
    "    fscore_all = sum(2*(multi_cm[i,i]/sum(multi_cm[i,j] for j in range(len(set(y_gt)))))*(multi_cm[i,i]/sum(multi_cm[j,i] for j in range(len(set(y_gt)))))/(multi_cm[i,i]/sum(multi_cm[i,j] for j in range(len(set(y_gt))))+multi_cm[i,i]/sum(multi_cm[j,i] for j in range(len(set(y_gt))))) for i in range(len(set(y_gt))))/len(set(y_gt))\n",
    "    \n",
    "    result={}\n",
    "\n",
    "    for i in np.unique(y_gt):\n",
    "\n",
    "        i_gt = (y_gt==i).astype(int)\n",
    "        i_pred = (y_pred==i).astype(int)\n",
    "\n",
    "        cm = confusion_matrix(i_gt, i_pred)\n",
    "\n",
    "        i_result = {}\n",
    "\n",
    "        TP = cm[1,1]\n",
    "        FP = cm[0,1]\n",
    "        TN = cm[0,0]\n",
    "        FN = cm[1,0]\n",
    "        # Precision for Positive = TP/(TP + FP)\n",
    "        prec_pos = TP/(TP + FP)\n",
    "        # F1 score for positive = 2 * precision * recall / (precision + recall)….or it can be F1= 2*TP/(2*TP + FP+ FN)\n",
    "        f1_pos = 2*TP/(TP*2 + FP+ FN)\n",
    "        # TPR = TP/(TP+FN)\n",
    "        TPR = cm[1,1]/sum(cm[1,j] for j in range(len(set(i_gt))))\n",
    "\n",
    "        i_result = {'recall': TPR, 'precision': prec_pos, 'f1': f1_pos}\n",
    "\n",
    "        result[str(int(i))] = i_result\n",
    "\n",
    "    ave_result = {'accuracy':accuracy, 'recall_all':recall_all, 'precision_all':precision_all, 'fscore_all':fscore_all}\n",
    "    result['average'] = ave_result\n",
    "\n",
    "    return result, multi_cm\n"
   ]
  },
  {
   "cell_type": "code",
   "execution_count": 22,
   "metadata": {
    "collapsed": false,
    "scrolled": false
   },
   "outputs": [
    {
     "name": "stdout",
     "output_type": "stream",
     "text": [
      "------iFold:0---------------------\n"
     ]
    },
    {
     "name": "stderr",
     "output_type": "stream",
     "text": [
      "/Users/shibozhang/anaconda/lib/python3.6/site-packages/pandas/core/indexing.py:362: SettingWithCopyWarning: \n",
      "A value is trying to be set on a copy of a slice from a DataFrame.\n",
      "Try using .loc[row_indexer,col_indexer] = value instead\n",
      "\n",
      "See the caveats in the documentation: http://pandas.pydata.org/pandas-docs/stable/indexing.html#indexing-view-versus-copy\n",
      "  self.obj[key] = _infer_fill_value(value)\n",
      "/Users/shibozhang/anaconda/lib/python3.6/site-packages/pandas/core/indexing.py:543: SettingWithCopyWarning: \n",
      "A value is trying to be set on a copy of a slice from a DataFrame.\n",
      "Try using .loc[row_indexer,col_indexer] = value instead\n",
      "\n",
      "See the caveats in the documentation: http://pandas.pydata.org/pandas-docs/stable/indexing.html#indexing-view-versus-copy\n",
      "  self.obj[item] = s\n"
     ]
    },
    {
     "name": "stdout",
     "output_type": "stream",
     "text": [
      "---------------------svm----------------\n",
      "0.0444444444444\n",
      "[[156   1]\n",
      " [ 42   1]]\n",
      "---------------------rf----------------\n",
      "0.166666666667\n",
      "[[156   1]\n",
      " [ 39   4]]\n",
      "---------------------lr----------------\n",
      "0.721649484536\n",
      "[[138  19]\n",
      " [  8  35]]\n",
      "------iFold:1---------------------\n"
     ]
    },
    {
     "name": "stderr",
     "output_type": "stream",
     "text": [
      "/Users/shibozhang/anaconda/lib/python3.6/site-packages/pandas/core/indexing.py:362: SettingWithCopyWarning: \n",
      "A value is trying to be set on a copy of a slice from a DataFrame.\n",
      "Try using .loc[row_indexer,col_indexer] = value instead\n",
      "\n",
      "See the caveats in the documentation: http://pandas.pydata.org/pandas-docs/stable/indexing.html#indexing-view-versus-copy\n",
      "  self.obj[key] = _infer_fill_value(value)\n",
      "/Users/shibozhang/anaconda/lib/python3.6/site-packages/pandas/core/indexing.py:543: SettingWithCopyWarning: \n",
      "A value is trying to be set on a copy of a slice from a DataFrame.\n",
      "Try using .loc[row_indexer,col_indexer] = value instead\n",
      "\n",
      "See the caveats in the documentation: http://pandas.pydata.org/pandas-docs/stable/indexing.html#indexing-view-versus-copy\n",
      "  self.obj[item] = s\n",
      "/Users/shibozhang/anaconda/lib/python3.6/site-packages/ipykernel/__main__.py:13: RuntimeWarning: invalid value encountered in double_scalars\n"
     ]
    },
    {
     "name": "stdout",
     "output_type": "stream",
     "text": [
      "---------------------svm----------------\n",
      "0.0\n",
      "[[154   3]\n",
      " [ 43   0]]\n",
      "---------------------rf----------------\n",
      "0.514285714286\n",
      "[[148   9]\n",
      " [ 25  18]]\n",
      "---------------------lr----------------\n",
      "0.197183098592\n",
      "[[136  21]\n",
      " [ 36   7]]\n",
      "------iFold:2---------------------\n"
     ]
    },
    {
     "name": "stderr",
     "output_type": "stream",
     "text": [
      "/Users/shibozhang/anaconda/lib/python3.6/site-packages/pandas/core/indexing.py:362: SettingWithCopyWarning: \n",
      "A value is trying to be set on a copy of a slice from a DataFrame.\n",
      "Try using .loc[row_indexer,col_indexer] = value instead\n",
      "\n",
      "See the caveats in the documentation: http://pandas.pydata.org/pandas-docs/stable/indexing.html#indexing-view-versus-copy\n",
      "  self.obj[key] = _infer_fill_value(value)\n",
      "/Users/shibozhang/anaconda/lib/python3.6/site-packages/pandas/core/indexing.py:543: SettingWithCopyWarning: \n",
      "A value is trying to be set on a copy of a slice from a DataFrame.\n",
      "Try using .loc[row_indexer,col_indexer] = value instead\n",
      "\n",
      "See the caveats in the documentation: http://pandas.pydata.org/pandas-docs/stable/indexing.html#indexing-view-versus-copy\n",
      "  self.obj[item] = s\n"
     ]
    },
    {
     "name": "stdout",
     "output_type": "stream",
     "text": [
      "---------------------svm----------------\n",
      "0.43\n",
      "[[ 43 114]\n",
      " [  0  43]]\n",
      "---------------------rf----------------\n",
      "0.324324324324\n",
      "[[138  19]\n",
      " [ 31  12]]\n",
      "---------------------lr----------------\n",
      "0.521008403361\n",
      "[[112  45]\n",
      " [ 12  31]]\n",
      "------iFold:3---------------------\n"
     ]
    },
    {
     "name": "stderr",
     "output_type": "stream",
     "text": [
      "/Users/shibozhang/anaconda/lib/python3.6/site-packages/pandas/core/indexing.py:362: SettingWithCopyWarning: \n",
      "A value is trying to be set on a copy of a slice from a DataFrame.\n",
      "Try using .loc[row_indexer,col_indexer] = value instead\n",
      "\n",
      "See the caveats in the documentation: http://pandas.pydata.org/pandas-docs/stable/indexing.html#indexing-view-versus-copy\n",
      "  self.obj[key] = _infer_fill_value(value)\n",
      "/Users/shibozhang/anaconda/lib/python3.6/site-packages/pandas/core/indexing.py:543: SettingWithCopyWarning: \n",
      "A value is trying to be set on a copy of a slice from a DataFrame.\n",
      "Try using .loc[row_indexer,col_indexer] = value instead\n",
      "\n",
      "See the caveats in the documentation: http://pandas.pydata.org/pandas-docs/stable/indexing.html#indexing-view-versus-copy\n",
      "  self.obj[item] = s\n"
     ]
    },
    {
     "name": "stdout",
     "output_type": "stream",
     "text": [
      "---------------------svm----------------\n",
      "0.351464435146\n",
      "[[  2 155]\n",
      " [  0  42]]\n",
      "---------------------rf----------------\n",
      "0.34693877551\n",
      "[[118  39]\n",
      " [ 25  17]]\n",
      "---------------------lr----------------\n",
      "0.436363636364\n",
      "[[70 87]\n",
      " [ 6 36]]\n",
      "------iFold:4---------------------\n"
     ]
    },
    {
     "name": "stderr",
     "output_type": "stream",
     "text": [
      "/Users/shibozhang/anaconda/lib/python3.6/site-packages/pandas/core/indexing.py:362: SettingWithCopyWarning: \n",
      "A value is trying to be set on a copy of a slice from a DataFrame.\n",
      "Try using .loc[row_indexer,col_indexer] = value instead\n",
      "\n",
      "See the caveats in the documentation: http://pandas.pydata.org/pandas-docs/stable/indexing.html#indexing-view-versus-copy\n",
      "  self.obj[key] = _infer_fill_value(value)\n",
      "/Users/shibozhang/anaconda/lib/python3.6/site-packages/pandas/core/indexing.py:543: SettingWithCopyWarning: \n",
      "A value is trying to be set on a copy of a slice from a DataFrame.\n",
      "Try using .loc[row_indexer,col_indexer] = value instead\n",
      "\n",
      "See the caveats in the documentation: http://pandas.pydata.org/pandas-docs/stable/indexing.html#indexing-view-versus-copy\n",
      "  self.obj[item] = s\n",
      "/Users/shibozhang/anaconda/lib/python3.6/site-packages/ipykernel/__main__.py:12: RuntimeWarning: invalid value encountered in long_scalars\n",
      "/Users/shibozhang/anaconda/lib/python3.6/site-packages/ipykernel/__main__.py:13: RuntimeWarning: invalid value encountered in long_scalars\n",
      "/Users/shibozhang/anaconda/lib/python3.6/site-packages/ipykernel/__main__.py:31: RuntimeWarning: invalid value encountered in long_scalars\n"
     ]
    },
    {
     "name": "stdout",
     "output_type": "stream",
     "text": [
      "---------------------svm----------------\n",
      "0.0\n",
      "[[157   0]\n",
      " [ 42   0]]\n",
      "---------------------rf----------------\n",
      "0.0\n",
      "[[157   0]\n",
      " [ 42   0]]\n",
      "---------------------lr----------------\n",
      "0.148148148148\n",
      "[[149   8]\n",
      " [ 38   4]]\n",
      "------iFold:5---------------------\n"
     ]
    },
    {
     "name": "stderr",
     "output_type": "stream",
     "text": [
      "/Users/shibozhang/anaconda/lib/python3.6/site-packages/pandas/core/indexing.py:362: SettingWithCopyWarning: \n",
      "A value is trying to be set on a copy of a slice from a DataFrame.\n",
      "Try using .loc[row_indexer,col_indexer] = value instead\n",
      "\n",
      "See the caveats in the documentation: http://pandas.pydata.org/pandas-docs/stable/indexing.html#indexing-view-versus-copy\n",
      "  self.obj[key] = _infer_fill_value(value)\n",
      "/Users/shibozhang/anaconda/lib/python3.6/site-packages/pandas/core/indexing.py:543: SettingWithCopyWarning: \n",
      "A value is trying to be set on a copy of a slice from a DataFrame.\n",
      "Try using .loc[row_indexer,col_indexer] = value instead\n",
      "\n",
      "See the caveats in the documentation: http://pandas.pydata.org/pandas-docs/stable/indexing.html#indexing-view-versus-copy\n",
      "  self.obj[item] = s\n"
     ]
    },
    {
     "name": "stdout",
     "output_type": "stream",
     "text": [
      "---------------------svm----------------\n",
      "0.357446808511\n",
      "[[  6 151]\n",
      " [  0  42]]\n",
      "---------------------rf----------------\n",
      "0.434782608696\n",
      "[[127  30]\n",
      " [ 22  20]]\n",
      "---------------------lr----------------\n",
      "0.397260273973\n",
      "[[82 75]\n",
      " [13 29]]\n",
      "------iFold:6---------------------\n"
     ]
    },
    {
     "name": "stderr",
     "output_type": "stream",
     "text": [
      "/Users/shibozhang/anaconda/lib/python3.6/site-packages/pandas/core/indexing.py:362: SettingWithCopyWarning: \n",
      "A value is trying to be set on a copy of a slice from a DataFrame.\n",
      "Try using .loc[row_indexer,col_indexer] = value instead\n",
      "\n",
      "See the caveats in the documentation: http://pandas.pydata.org/pandas-docs/stable/indexing.html#indexing-view-versus-copy\n",
      "  self.obj[key] = _infer_fill_value(value)\n",
      "/Users/shibozhang/anaconda/lib/python3.6/site-packages/pandas/core/indexing.py:543: SettingWithCopyWarning: \n",
      "A value is trying to be set on a copy of a slice from a DataFrame.\n",
      "Try using .loc[row_indexer,col_indexer] = value instead\n",
      "\n",
      "See the caveats in the documentation: http://pandas.pydata.org/pandas-docs/stable/indexing.html#indexing-view-versus-copy\n",
      "  self.obj[item] = s\n"
     ]
    },
    {
     "name": "stdout",
     "output_type": "stream",
     "text": [
      "---------------------svm----------------\n",
      "0.0444444444444\n",
      "[[155   2]\n",
      " [ 41   1]]\n",
      "---------------------rf----------------\n",
      "0.465753424658\n",
      "[[143  14]\n",
      " [ 25  17]]\n",
      "---------------------lr----------------\n",
      "0.420454545455\n",
      "[[60 97]\n",
      " [ 5 37]]\n",
      "------iFold:7---------------------\n"
     ]
    },
    {
     "name": "stderr",
     "output_type": "stream",
     "text": [
      "/Users/shibozhang/anaconda/lib/python3.6/site-packages/pandas/core/indexing.py:362: SettingWithCopyWarning: \n",
      "A value is trying to be set on a copy of a slice from a DataFrame.\n",
      "Try using .loc[row_indexer,col_indexer] = value instead\n",
      "\n",
      "See the caveats in the documentation: http://pandas.pydata.org/pandas-docs/stable/indexing.html#indexing-view-versus-copy\n",
      "  self.obj[key] = _infer_fill_value(value)\n",
      "/Users/shibozhang/anaconda/lib/python3.6/site-packages/pandas/core/indexing.py:543: SettingWithCopyWarning: \n",
      "A value is trying to be set on a copy of a slice from a DataFrame.\n",
      "Try using .loc[row_indexer,col_indexer] = value instead\n",
      "\n",
      "See the caveats in the documentation: http://pandas.pydata.org/pandas-docs/stable/indexing.html#indexing-view-versus-copy\n",
      "  self.obj[item] = s\n",
      "/Users/shibozhang/anaconda/lib/python3.6/site-packages/ipykernel/__main__.py:12: RuntimeWarning: invalid value encountered in long_scalars\n",
      "/Users/shibozhang/anaconda/lib/python3.6/site-packages/ipykernel/__main__.py:13: RuntimeWarning: invalid value encountered in long_scalars\n",
      "/Users/shibozhang/anaconda/lib/python3.6/site-packages/ipykernel/__main__.py:31: RuntimeWarning: invalid value encountered in long_scalars\n"
     ]
    },
    {
     "name": "stdout",
     "output_type": "stream",
     "text": [
      "---------------------svm----------------\n",
      "0.0\n",
      "[[157   0]\n",
      " [ 42   0]]\n",
      "---------------------rf----------------\n",
      "0.0\n",
      "[[157   0]\n",
      " [ 42   0]]\n",
      "---------------------lr----------------\n",
      "0.0416666666667\n",
      "[[152   5]\n",
      " [ 41   1]]\n",
      "------iFold:8---------------------\n"
     ]
    },
    {
     "name": "stderr",
     "output_type": "stream",
     "text": [
      "/Users/shibozhang/anaconda/lib/python3.6/site-packages/pandas/core/indexing.py:362: SettingWithCopyWarning: \n",
      "A value is trying to be set on a copy of a slice from a DataFrame.\n",
      "Try using .loc[row_indexer,col_indexer] = value instead\n",
      "\n",
      "See the caveats in the documentation: http://pandas.pydata.org/pandas-docs/stable/indexing.html#indexing-view-versus-copy\n",
      "  self.obj[key] = _infer_fill_value(value)\n",
      "/Users/shibozhang/anaconda/lib/python3.6/site-packages/pandas/core/indexing.py:543: SettingWithCopyWarning: \n",
      "A value is trying to be set on a copy of a slice from a DataFrame.\n",
      "Try using .loc[row_indexer,col_indexer] = value instead\n",
      "\n",
      "See the caveats in the documentation: http://pandas.pydata.org/pandas-docs/stable/indexing.html#indexing-view-versus-copy\n",
      "  self.obj[item] = s\n",
      "/Users/shibozhang/anaconda/lib/python3.6/site-packages/ipykernel/__main__.py:12: RuntimeWarning: invalid value encountered in long_scalars\n",
      "/Users/shibozhang/anaconda/lib/python3.6/site-packages/ipykernel/__main__.py:13: RuntimeWarning: invalid value encountered in long_scalars\n",
      "/Users/shibozhang/anaconda/lib/python3.6/site-packages/ipykernel/__main__.py:31: RuntimeWarning: invalid value encountered in long_scalars\n"
     ]
    },
    {
     "name": "stdout",
     "output_type": "stream",
     "text": [
      "---------------------svm----------------\n",
      "0.0\n",
      "[[156   0]\n",
      " [ 42   0]]\n",
      "---------------------rf----------------\n",
      "0.0\n",
      "[[156   0]\n",
      " [ 42   0]]\n",
      "---------------------lr----------------\n",
      "0.127659574468\n",
      "[[154   2]\n",
      " [ 39   3]]\n",
      "------iFold:9---------------------\n"
     ]
    },
    {
     "ename": "ValueError",
     "evalue": "The number of classes has to be greater than one; got 1",
     "output_type": "error",
     "traceback": [
      "\u001b[0;31m---------------------------------------------------------------------------\u001b[0m",
      "\u001b[0;31mValueError\u001b[0m                                Traceback (most recent call last)",
      "\u001b[0;32m<ipython-input-22-7d4306c4e72b>\u001b[0m in \u001b[0;36m<module>\u001b[0;34m()\u001b[0m\n\u001b[1;32m     72\u001b[0m         \u001b[0;32mfor\u001b[0m \u001b[0;34m(\u001b[0m\u001b[0mclf_type\u001b[0m\u001b[0;34m,\u001b[0m \u001b[0mclf_name\u001b[0m\u001b[0;34m)\u001b[0m \u001b[0;32min\u001b[0m \u001b[0mzip\u001b[0m\u001b[0;34m(\u001b[0m\u001b[0mclf_list\u001b[0m\u001b[0;34m,\u001b[0m \u001b[0mclf_names\u001b[0m\u001b[0;34m)\u001b[0m\u001b[0;34m:\u001b[0m\u001b[0;34m\u001b[0m\u001b[0m\n\u001b[1;32m     73\u001b[0m             vars()['cluster'+str(i)+'_'+clf_name] = clf_type.fit(vars()['XY_trn_cluster_'+str(i)].values[:,:-2],\n\u001b[0;32m---> 74\u001b[0;31m                                                                  vars()['XY_trn_cluster_'+str(i)]['label'].values)\n\u001b[0m\u001b[1;32m     75\u001b[0m \u001b[0;34m\u001b[0m\u001b[0m\n\u001b[1;32m     76\u001b[0m     \u001b[0;31m# test\u001b[0m\u001b[0;34m\u001b[0m\u001b[0;34m\u001b[0m\u001b[0m\n",
      "\u001b[0;32m/Users/shibozhang/anaconda/lib/python3.6/site-packages/sklearn/svm/base.py\u001b[0m in \u001b[0;36mfit\u001b[0;34m(self, X, y, sample_weight)\u001b[0m\n\u001b[1;32m    148\u001b[0m \u001b[0;34m\u001b[0m\u001b[0m\n\u001b[1;32m    149\u001b[0m         \u001b[0mX\u001b[0m\u001b[0;34m,\u001b[0m \u001b[0my\u001b[0m \u001b[0;34m=\u001b[0m \u001b[0mcheck_X_y\u001b[0m\u001b[0;34m(\u001b[0m\u001b[0mX\u001b[0m\u001b[0;34m,\u001b[0m \u001b[0my\u001b[0m\u001b[0;34m,\u001b[0m \u001b[0mdtype\u001b[0m\u001b[0;34m=\u001b[0m\u001b[0mnp\u001b[0m\u001b[0;34m.\u001b[0m\u001b[0mfloat64\u001b[0m\u001b[0;34m,\u001b[0m \u001b[0morder\u001b[0m\u001b[0;34m=\u001b[0m\u001b[0;34m'C'\u001b[0m\u001b[0;34m,\u001b[0m \u001b[0maccept_sparse\u001b[0m\u001b[0;34m=\u001b[0m\u001b[0;34m'csr'\u001b[0m\u001b[0;34m)\u001b[0m\u001b[0;34m\u001b[0m\u001b[0m\n\u001b[0;32m--> 150\u001b[0;31m         \u001b[0my\u001b[0m \u001b[0;34m=\u001b[0m \u001b[0mself\u001b[0m\u001b[0;34m.\u001b[0m\u001b[0m_validate_targets\u001b[0m\u001b[0;34m(\u001b[0m\u001b[0my\u001b[0m\u001b[0;34m)\u001b[0m\u001b[0;34m\u001b[0m\u001b[0m\n\u001b[0m\u001b[1;32m    151\u001b[0m \u001b[0;34m\u001b[0m\u001b[0m\n\u001b[1;32m    152\u001b[0m         sample_weight = np.asarray([]\n",
      "\u001b[0;32m/Users/shibozhang/anaconda/lib/python3.6/site-packages/sklearn/svm/base.py\u001b[0m in \u001b[0;36m_validate_targets\u001b[0;34m(self, y)\u001b[0m\n\u001b[1;32m    504\u001b[0m             raise ValueError(\n\u001b[1;32m    505\u001b[0m                 \u001b[0;34m\"The number of classes has to be greater than one; got %d\"\u001b[0m\u001b[0;34m\u001b[0m\u001b[0m\n\u001b[0;32m--> 506\u001b[0;31m                 % len(cls))\n\u001b[0m\u001b[1;32m    507\u001b[0m \u001b[0;34m\u001b[0m\u001b[0m\n\u001b[1;32m    508\u001b[0m         \u001b[0mself\u001b[0m\u001b[0;34m.\u001b[0m\u001b[0mclasses_\u001b[0m \u001b[0;34m=\u001b[0m \u001b[0mcls\u001b[0m\u001b[0;34m\u001b[0m\u001b[0m\n",
      "\u001b[0;31mValueError\u001b[0m: The number of classes has to be greater than one; got 1"
     ]
    }
   ],
   "source": [
    "from sklearn import svm\n",
    "from sklearn.model_selection import train_test_split\n",
    "from sklearn.ensemble import RandomForestClassifier\n",
    "from sklearn.linear_model import LogisticRegression\n",
    "from sklearn.model_selection import StratifiedKFold,KFold\n",
    "\n",
    "#read data first\n",
    "fd_folder='All/fd/fd_groundtruthsegmentation.csv'\n",
    "dd_folder='All/dd/dd_groundtruthsegmentation.csv'\n",
    "sd_folder='All/sd/sd_groundtruthsegmentation.csv'\n",
    "cd_folder='All/cd/cd_groundtruthsegmentation.csv'\n",
    "null_folder='All/null/null_groundtruthsegmentation.csv'\n",
    "fd,dd,sd,cd=pd.read_csv(fd_folder),pd.read_csv(dd_folder),pd.read_csv(sd_folder),pd.read_csv(cd_folder)\n",
    "null=pd.read_csv(null_folder)\n",
    "\n",
    "#definle label\n",
    "positive_group=pd.concat([fd,dd])\n",
    "positive_group['label']=1\n",
    "\n",
    "negative_group=pd.concat([null])\n",
    "negative_group['label']=0\n",
    "total_group=pd.concat([positive_group,negative_group])\n",
    "\n",
    "#cluster number\n",
    "cluster_number=4\n",
    "\n",
    "clf_list=[svm.SVC(),RandomForestClassifier(n_estimators=185),LogisticRegression()]\n",
    "clf_names=['svm','rf','lr']\n",
    "\n",
    "skf = StratifiedKFold(n_splits=10)\n",
    "\n",
    "for clf_name in clf_names:\n",
    "    vars()['gt_all_folds_'+clf_name] = []\n",
    "    vars()['pd_all_folds_'+clf_name] = []\n",
    "\n",
    "iFold = 0\n",
    "for XY_trn_idx, XY_test_idx in skf.split(total_group.values[:,:-1],\n",
    "                                        total_group['label'].values):\n",
    "    \n",
    "    print('------iFold:'+str(iFold)+'---------------------')\n",
    "\n",
    "\n",
    "    trn_group = total_group.iloc[XY_trn_idx]\n",
    "    names = trn_group.columns\n",
    "    test_group = total_group.iloc[XY_test_idx]\n",
    "    X_train, X_test = trn_group.values[:,:-1], test_group.values[:,:-1]\n",
    "    y_train, y_test = trn_group.values[:,-1], test_group.values[:,-1]\n",
    "\n",
    "    # subsampling balancing will harm clustering, so cannot be used\n",
    "#     X_train, y_train = balanced_subsample(X_train,y_train,subsample_size=1.0)\n",
    "\n",
    "    X_train, y_train = SMOTE().fit_sample(X_train, y_train)\n",
    "    trn_group = pd.DataFrame(data=np.hstack((X_train,y_train[:,np.newaxis])),columns=names)\n",
    "\n",
    "\n",
    "    \n",
    "    # normalization\n",
    "    normalizer = standard_normalizer(X_train)\n",
    "    X_train = normalizer(X_train)\n",
    "    X_test = normalizer(X_test)\n",
    "    \n",
    "    #fit the data\n",
    "    kmeans = MiniBatchKMeans(n_clusters=cluster_number).fit(X_train)\n",
    "\n",
    "    # train\n",
    "    # ........assign each data a label\n",
    "    trn_group.loc[:,'cluster_id']=kmeans.predict(X_train)\n",
    "\n",
    "    for i in range(cluster_number):\n",
    "        vars()['XY_trn_cluster_'+str(i)] = trn_group[trn_group['cluster_id']==i]\n",
    "\n",
    "        for (clf_type, clf_name) in zip(clf_list, clf_names):\n",
    "            vars()['cluster'+str(i)+'_'+clf_name] = clf_type.fit(vars()['XY_trn_cluster_'+str(i)].values[:,:-2],\n",
    "                                                                 vars()['XY_trn_cluster_'+str(i)]['label'].values)\n",
    "    \n",
    "    # test\n",
    "    # ........assign each data a label\n",
    "    test_group.loc[:,'cluster_id']=kmeans.predict(X_test)\n",
    "    \n",
    "    for clf_name in clf_names:\n",
    "        vars()['gt_all_clusters_'+clf_name] = []\n",
    "        vars()['pd_all_clusters_'+clf_name] = []\n",
    "    \n",
    "        for i in range(cluster_number):\n",
    "            vars()['XY_test_cluster_'+str(i)] = test_group[test_group['cluster_id']==i]\n",
    "            vars()['gt_all_clusters_'+clf_name].append(vars()['XY_test_cluster_'+str(i)]['label'].values)\n",
    "            vars()['pd_all_clusters_'+clf_name].append(\n",
    "                vars()['cluster'+str(i)+'_'+clf_name].predict(vars()['XY_test_cluster_'+str(i)].values[:,:-2]))\n",
    "        \n",
    "        vars()['gt_all_clusters_'+clf_name]=np.concatenate(vars()['gt_all_clusters_'+clf_name])\n",
    "        vars()['pd_all_clusters_'+clf_name]=np.concatenate(vars()['pd_all_clusters_'+clf_name])\n",
    "\n",
    "        result,_cm = calc_multi_cm(vars()['gt_all_clusters_'+clf_name], vars()['pd_all_clusters_'+clf_name])\n",
    "        print('---------------------'+clf_name+'----------------')\n",
    "        print(result['1']['f1'])\n",
    "#         print(result)\n",
    "        print(_cm)\n",
    "\n",
    "        vars()['pd_all_folds_'+clf_name].append(vars()['pd_all_clusters_'+clf_name])\n",
    "        vars()['gt_all_folds_'+clf_name].append(vars()['gt_all_clusters_'+clf_name])\n",
    "\n",
    "    iFold += 1\n",
    "\n",
    "print('---------------------Final----------------')\n",
    "\n",
    "for clf_name in clf_names:\n",
    "    vars()['gt_all_folds_'+clf_name]=np.concatenate(vars()['gt_all_folds_'+clf_name])\n",
    "    vars()['pd_all_folds_'+clf_name]=np.concatenate(vars()['pd_all_folds_'+clf_name])\n",
    "    \n",
    "    result,_cm = calc_multi_cm(vars()['gt_all_folds_'+clf_name], vars()['pd_all_folds_'+clf_name])\n",
    "\n",
    "    print('---------------------'+clf_name+'----------------')\n",
    "    print(result['1']['f1'])\n",
    "    print(result)\n",
    "    print(_cm)\n"
   ]
  },
  {
   "cell_type": "code",
   "execution_count": null,
   "metadata": {
    "collapsed": true
   },
   "outputs": [],
   "source": []
  }
 ],
 "metadata": {
  "kernelspec": {
   "display_name": "Python 3",
   "language": "python",
   "name": "python3"
  }
 },
 "nbformat": 4,
 "nbformat_minor": 2
}
